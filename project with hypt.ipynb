{
 "cells": [
  {
   "cell_type": "code",
   "execution_count": 1,
   "metadata": {},
   "outputs": [],
   "source": [
    "import pandas as pd\n",
    "import numpy as np\n",
    "\n",
    "\n",
    "from sklearn.impute import SimpleImputer\n",
    "\n",
    "from sklearn.ensemble import RandomForestClassifier"
   ]
  },
  {
   "cell_type": "code",
   "execution_count": null,
   "metadata": {},
   "outputs": [],
   "source": []
  },
  {
   "cell_type": "code",
   "execution_count": 7,
   "metadata": {},
   "outputs": [
    {
     "name": "stdout",
     "output_type": "stream",
     "text": [
      "<class 'pandas.core.frame.DataFrame'>\n",
      "RangeIndex: 30691 entries, 0 to 30690\n",
      "Data columns (total 11 columns):\n",
      " #   Column                                Non-Null Count  Dtype  \n",
      "---  ------                                --------------  -----  \n",
      " 0   Age of the patient                    30689 non-null  float64\n",
      " 1   Gender of the patient                 30691 non-null  int32  \n",
      " 2   Total Bilirubin                       30043 non-null  float64\n",
      " 3   Direct Bilirubin                      30130 non-null  float64\n",
      " 4   Alkphos Alkaline Phosphotase          29895 non-null  float64\n",
      " 5   Sgpt Alamine Aminotransferase         30153 non-null  float64\n",
      " 6   Sgot Aspartate Aminotransferase       30229 non-null  float64\n",
      " 7   Total Protiens                        30228 non-null  float64\n",
      " 8   ALB Albumin                           30197 non-null  float64\n",
      " 9   A/G Ratio Albumin and Globulin Ratio  30132 non-null  float64\n",
      " 10  Result                                30691 non-null  int64  \n",
      "dtypes: float64(9), int32(1), int64(1)\n",
      "memory usage: 2.5 MB\n",
      "[1]\n"
     ]
    }
   ],
   "source": [
    "import numpy as np\n",
    "import pandas as pd\n",
    "from sklearn.ensemble import RandomForestClassifier\n",
    "from sklearn.impute import SimpleImputer\n",
    "from sklearn.model_selection import GridSearchCV\n",
    "\n",
    "# Set up input data\n",
    "AAP = 202\n",
    "SGPT = 22\n",
    "TB = 0.9\n",
    "DB = 0.3\n",
    "SGOT = 19\n",
    "AGR = 1.2\n",
    "ALBA = 4.1\n",
    "AGE=65\n",
    "GEN=1\n",
    "TP=6.8\n",
    "\n",
    "\n",
    "input = np.array([AGE,GEN,TB, DB, AAP, SGPT, SGOT,TP, ALBA, AGR])\n",
    "columns = ['Age of the patient','Gender of the patient','Total Bilirubin', 'Direct Bilirubin', 'Alkphos Alkaline Phosphotase', 'Sgpt Alamine Aminotransferase', 'Sgot Aspartate Aminotransferase','Total Protiens', 'ALB Albumin', 'A/G Ratio Albumin and Globulin Ratio']\n",
    "input_df = pd.DataFrame(input.reshape(1,-1), columns=columns)\n",
    "\n",
    "# Load and preprocess training data\n",
    "df=pd.read_csv(r\"C:\\Users\\Sudeep Pawar\\OneDrive\\Documents\\Project API\\Liver Patient Dataset (LPD)_train.csv\",encoding=\"unicode_escape\")\n",
    "from sklearn.preprocessing import LabelEncoder\n",
    "enc=LabelEncoder()\n",
    "df['Gender of the patient']=enc.fit_transform(df['Gender of the patient'])\n",
    "df.info()\n",
    "df['Result']=df['Result'].apply(lambda x:1 if x==2 else 0)\n",
    "\n",
    "X=df.select_dtypes(exclude=object)\n",
    "X=X.drop('Result',axis=1)\n",
    "c_names=list(X.columns)\n",
    "model=SimpleImputer(strategy='median')\n",
    "model.fit(X)\n",
    "X=model.transform(X)\n",
    "X=pd.DataFrame(X,columns=c_names)\n",
    "Y=df['Result']\n",
    "\n",
    "\n",
    "param_grid = {\n",
    "    'n_estimators': [50, 100, 150],\n",
    "    'max_depth': [None, 5, 10],\n",
    "    'min_samples_split': [2, 5, 10],\n",
    "    'min_samples_leaf': [1, 2, 4]\n",
    "}\n",
    "model = RandomForestClassifier()\n",
    "grid_search = GridSearchCV(model, param_grid, cv=5)\n",
    "grid_search.fit(X, Y)\n",
    "\n",
    "best_model = grid_search.best_estimator_\n",
    "result = best_model.predict(input_df)\n",
    "print(result)\n"
   ]
  },
  {
   "cell_type": "code",
   "execution_count": 8,
   "metadata": {},
   "outputs": [
    {
     "name": "stdout",
     "output_type": "stream",
     "text": [
      "                                               params  mean_test_score\n",
      "5   {'max_depth': None, 'min_samples_leaf': 1, 'mi...         0.998371\n",
      "1   {'max_depth': None, 'min_samples_leaf': 1, 'mi...         0.998273\n",
      "4   {'max_depth': None, 'min_samples_leaf': 1, 'mi...         0.998273\n",
      "3   {'max_depth': None, 'min_samples_leaf': 1, 'mi...         0.998208\n",
      "8   {'max_depth': None, 'min_samples_leaf': 1, 'mi...         0.998175\n",
      "2   {'max_depth': None, 'min_samples_leaf': 1, 'mi...         0.998143\n",
      "6   {'max_depth': None, 'min_samples_leaf': 1, 'mi...         0.998078\n",
      "11  {'max_depth': None, 'min_samples_leaf': 2, 'mi...         0.998045\n",
      "14  {'max_depth': None, 'min_samples_leaf': 2, 'mi...         0.998045\n",
      "13  {'max_depth': None, 'min_samples_leaf': 2, 'mi...         0.998012\n"
     ]
    }
   ],
   "source": [
    "cv_results = grid_search.cv_results_\n",
    "results_df = pd.DataFrame(cv_results)\n",
    "results_df = results_df.sort_values(by='mean_test_score', ascending=False)\n",
    "print((results_df[['params', 'mean_test_score']]).head(10))\n"
   ]
  },
  {
   "cell_type": "code",
   "execution_count": 9,
   "metadata": {},
   "outputs": [
    {
     "data": {
      "text/plain": [
       "{'max_depth': None,\n",
       " 'min_samples_leaf': 1,\n",
       " 'min_samples_split': 5,\n",
       " 'n_estimators': 150}"
      ]
     },
     "execution_count": 9,
     "metadata": {},
     "output_type": "execute_result"
    }
   ],
   "source": [
    "grid_search.best_params_"
   ]
  },
  {
   "cell_type": "code",
   "execution_count": 10,
   "metadata": {},
   "outputs": [],
   "source": [
    "import joblib"
   ]
  },
  {
   "cell_type": "code",
   "execution_count": 11,
   "metadata": {},
   "outputs": [
    {
     "data": {
      "text/plain": [
       "['best_model_checkpoint.pkl']"
      ]
     },
     "execution_count": 11,
     "metadata": {},
     "output_type": "execute_result"
    }
   ],
   "source": [
    "joblib.dump(best_model, 'best_model_checkpoint.pkl')"
   ]
  },
  {
   "cell_type": "code",
   "execution_count": 12,
   "metadata": {},
   "outputs": [
    {
     "name": "stdout",
     "output_type": "stream",
     "text": [
      "[1]\n"
     ]
    }
   ],
   "source": [
    "model = joblib.load('best_model_checkpoint.pkl')\n",
    "result = model.predict(input_df)\n",
    "print(result)"
   ]
  },
  {
   "cell_type": "code",
   "execution_count": 4,
   "metadata": {},
   "outputs": [
    {
     "name": "stdout",
     "output_type": "stream",
     "text": [
      "Patient has liver disease\n"
     ]
    }
   ],
   "source": [
    "import requests\n",
    "import json\n",
    "\n",
    "url = \"http://127.0.0.1:5000/predict\"\n",
    "\n",
    "payload = json.dumps({\n",
    "  \"AAP\": 202,\n",
    "  \"SGPT\": 22,\n",
    "  \"TB\": 0.9,\n",
    "  \"DB\": 0.3,\n",
    "  \"SGOT\": 19,\n",
    "  \"AGR\": 1.2,\n",
    "  \"ALBA\": 4.1\n",
    "})\n",
    "headers = {\n",
    "  'Content-Type': 'application/json'\n",
    "}\n",
    "\n",
    "response = requests.request(\"POST\", url, headers=headers, data=payload)\n",
    "\n",
    "print(response.text)\n"
   ]
  },
  {
   "cell_type": "code",
   "execution_count": null,
   "metadata": {},
   "outputs": [],
   "source": []
  }
 ],
 "metadata": {
  "kernelspec": {
   "display_name": "Python 3",
   "language": "python",
   "name": "python3"
  },
  "language_info": {
   "codemirror_mode": {
    "name": "ipython",
    "version": 3
   },
   "file_extension": ".py",
   "mimetype": "text/x-python",
   "name": "python",
   "nbconvert_exporter": "python",
   "pygments_lexer": "ipython3",
   "version": "3.10.4"
  },
  "orig_nbformat": 4
 },
 "nbformat": 4,
 "nbformat_minor": 2
}
